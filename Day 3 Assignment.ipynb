{
 "cells": [
  {
   "cell_type": "code",
   "execution_count": 6,
   "metadata": {},
   "outputs": [
    {
     "name": "stdout",
     "output_type": "stream",
     "text": [
      "Enter the altitude: 1220\n",
      "1220\n",
      "Please come down to 1000ft\n"
     ]
    }
   ],
   "source": [
    "#Q1 - You all are Pilots, you want to land a plane safely, so altitude required for landing a plane...\n",
    "\n",
    "pilot_alt = int (input (\"Enter the altitude: \"))\n",
    "print (pilot_alt)\n",
    "if(pilot_alt < 1000):\n",
    "    print(\"Please land the plane\") \n",
    "elif(pilot_alt > 1000 and pilot_alt < 5000):\n",
    "    print(\"Please come down to 1000ft\")  \n",
    "else:\n",
    "    print(\"Go around and try later\") "
   ]
  },
  {
   "cell_type": "code",
   "execution_count": 4,
   "metadata": {},
   "outputs": [
    {
     "name": "stdout",
     "output_type": "stream",
     "text": [
      "Enter the altitude: 5010\n",
      "5010\n",
      "Go around and try later\n"
     ]
    }
   ],
   "source": [
    "pilot_alt = int (input (\"Enter the altitude: \"))\n",
    "print (pilot_alt)\n",
    "if(pilot_alt < 1000):\n",
    "    print(\"Please land the plane\") \n",
    "elif(pilot_alt > 1000 and pilot_alt < 5000):\n",
    "    print(\"Please come down to 1000ft\")  \n",
    "else:\n",
    "    print(\"Go around and try later\") "
   ]
  },
  {
   "cell_type": "code",
   "execution_count": 14,
   "metadata": {},
   "outputs": [
    {
     "name": "stdout",
     "output_type": "stream",
     "text": [
      "Enter the altitude: 900\n",
      "900\n",
      "Please land the plane\n"
     ]
    }
   ],
   "source": [
    "pilot_alt = int (input (\"Enter the altitude: \"))\n",
    "print (pilot_alt)\n",
    "if(pilot_alt < 1000):\n",
    "    print(\"Please land the plane\") \n",
    "elif(pilot_alt > 1000 and pilot_alt < 5000):\n",
    "    print(\"Please come down to 1000ft\")  \n",
    "else:\n",
    "    print(\"Go around and try later\") "
   ]
  },
  {
   "cell_type": "code",
   "execution_count": null,
   "metadata": {},
   "outputs": [],
   "source": []
  },
  {
   "cell_type": "code",
   "execution_count": 9,
   "metadata": {},
   "outputs": [],
   "source": [
    "#Q.2 Using for loop please print all the prime numbers between 1- 200 using FOR LOOP AND RANGE function\n",
    "\n"
   ]
  },
  {
   "cell_type": "code",
   "execution_count": 13,
   "metadata": {},
   "outputs": [
    {
     "name": "stdout",
     "output_type": "stream",
     "text": [
      " 2   3   5   7   11   13   17   19   23   29   31   37   41   43   47   53   59   61   67   71   73   79   83   89   97   101   103   107   109   113   127   131   137   139   149   151   157   163   167   173   179   181   191   193   197   199  "
     ]
    }
   ],
   "source": [
    "for Number in range (1, 201):\n",
    "    count = 0\n",
    "    for i in range(2, (Number//2 + 1)):\n",
    "        if(Number % i == 0):\n",
    "            count = count + 1\n",
    "            break\n",
    "\n",
    "    if (count == 0 and Number != 1):\n",
    "        print(\" %d\" %Number, end = '  ')\n"
   ]
  }
 ],
 "metadata": {
  "kernelspec": {
   "display_name": "Python 3",
   "language": "python",
   "name": "python3"
  },
  "language_info": {
   "codemirror_mode": {
    "name": "ipython",
    "version": 3
   },
   "file_extension": ".py",
   "mimetype": "text/x-python",
   "name": "python",
   "nbconvert_exporter": "python",
   "pygments_lexer": "ipython3",
   "version": "3.7.6"
  }
 },
 "nbformat": 4,
 "nbformat_minor": 4
}
