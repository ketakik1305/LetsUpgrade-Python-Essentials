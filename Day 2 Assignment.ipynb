{
 "cells": [
  {
   "cell_type": "markdown",
   "metadata": {},
   "source": [
    "# Lists and its default functions\n",
    "List are mutable, ordered, collection of Different datatype"
   ]
  },
  {
   "cell_type": "code",
   "execution_count": 7,
   "metadata": {},
   "outputs": [
    {
     "name": "stdout",
     "output_type": "stream",
     "text": [
      "['food', 'sports', 12345, [1, 2, 3]]\n"
     ]
    }
   ],
   "source": [
    "lst=['food', 'sports', 12345, [1,2,3]]\n",
    "print(lst)"
   ]
  },
  {
   "cell_type": "code",
   "execution_count": 15,
   "metadata": {},
   "outputs": [
    {
     "name": "stdout",
     "output_type": "stream",
     "text": [
      "['food', 'sports', 12345, [1, 2, 3], 'IT', 'IT', 'IT', 'IT']\n"
     ]
    }
   ],
   "source": [
    "lst.append('IT')\n",
    "print(lst)"
   ]
  },
  {
   "cell_type": "code",
   "execution_count": null,
   "metadata": {},
   "outputs": [],
   "source": [
    "#to print the 4th data -"
   ]
  },
  {
   "cell_type": "code",
   "execution_count": 16,
   "metadata": {},
   "outputs": [
    {
     "name": "stdout",
     "output_type": "stream",
     "text": [
      "[1, 2, 3]\n"
     ]
    }
   ],
   "source": [
    "print(lst[3])"
   ]
  },
  {
   "cell_type": "code",
   "execution_count": 17,
   "metadata": {},
   "outputs": [],
   "source": [
    "#to find the length of the list -"
   ]
  },
  {
   "cell_type": "code",
   "execution_count": 19,
   "metadata": {},
   "outputs": [
    {
     "name": "stdout",
     "output_type": "stream",
     "text": [
      "8\n"
     ]
    }
   ],
   "source": [
    "print(len(lst))"
   ]
  },
  {
   "cell_type": "code",
   "execution_count": 21,
   "metadata": {},
   "outputs": [],
   "source": [
    "#to clear list"
   ]
  },
  {
   "cell_type": "code",
   "execution_count": 30,
   "metadata": {},
   "outputs": [
    {
     "name": "stdout",
     "output_type": "stream",
     "text": [
      "[]\n"
     ]
    }
   ],
   "source": [
    "lst1=[1,2,3,4]\n",
    "lst1.clear()\n",
    "print(lst1)"
   ]
  },
  {
   "cell_type": "code",
   "execution_count": null,
   "metadata": {},
   "outputs": [],
   "source": [
    "#count number of repeated objects"
   ]
  },
  {
   "cell_type": "code",
   "execution_count": 35,
   "metadata": {},
   "outputs": [
    {
     "name": "stdout",
     "output_type": "stream",
     "text": [
      "2\n"
     ]
    }
   ],
   "source": [
    "sub = ['maths', 'sci', 'marathi', 'eng', 'eng']\n",
    "subcount = sub.count('eng')\n",
    "print(subcount)"
   ]
  },
  {
   "cell_type": "code",
   "execution_count": 37,
   "metadata": {},
   "outputs": [],
   "source": [
    "#use of pop - removes the mentioned object"
   ]
  },
  {
   "cell_type": "code",
   "execution_count": 1,
   "metadata": {},
   "outputs": [
    {
     "name": "stdout",
     "output_type": "stream",
     "text": [
      "['maths', 'sci', 'marathi', 'eng']\n"
     ]
    }
   ],
   "source": [
    "sub = ['maths', 'sci', 'marathi', 'eng', 'eng']\n",
    "\n",
    "sub.pop(4)\n",
    "\n",
    "print(sub)"
   ]
  },
  {
   "cell_type": "code",
   "execution_count": 3,
   "metadata": {},
   "outputs": [],
   "source": [
    "#to reverse the list order"
   ]
  },
  {
   "cell_type": "code",
   "execution_count": 7,
   "metadata": {},
   "outputs": [
    {
     "name": "stdout",
     "output_type": "stream",
     "text": [
      "[1, 2, 3, 4]\n"
     ]
    }
   ],
   "source": [
    "lst2=[4,3,2,1]\n",
    "lst2.reverse()\n",
    "print(lst2)"
   ]
  },
  {
   "cell_type": "markdown",
   "metadata": {},
   "source": [
    "# Dictonaries\n",
    "\n",
    "A dictionary is a collection which is unordered, changeable and indexed. In Python dictionaries are written with curly brackets, and they have keys and values"
   ]
  },
  {
   "cell_type": "code",
   "execution_count": 9,
   "metadata": {},
   "outputs": [
    {
     "name": "stdout",
     "output_type": "stream",
     "text": [
      "{'name': 'kets', 'age': '20', 'location': 'Mumbai'}\n"
     ]
    }
   ],
   "source": [
    "dit1={\"name\":\"kets\", \"age\":\"20\", \"location\":\"Mumbai\"}\n",
    "print(dit1)"
   ]
  },
  {
   "cell_type": "code",
   "execution_count": 10,
   "metadata": {},
   "outputs": [],
   "source": [
    "#add an item to the above list"
   ]
  },
  {
   "cell_type": "code",
   "execution_count": 19,
   "metadata": {},
   "outputs": [
    {
     "name": "stdout",
     "output_type": "stream",
     "text": [
      "{'name': 'kets', 'age': '20', 'location': 'Mumbai', 'favorite color': 'blue'}\n"
     ]
    }
   ],
   "source": [
    "dit1 = {\"name\":\"kets\", \"age\":\"20\", \"location\":\"Mumbai\"}\n",
    "dit1[\"favorite color\"] = \"blue\"\n",
    "print(dit1)"
   ]
  },
  {
   "cell_type": "code",
   "execution_count": 21,
   "metadata": {},
   "outputs": [],
   "source": [
    "#Create a dictionary with 3 keys, all with the same value"
   ]
  },
  {
   "cell_type": "code",
   "execution_count": 27,
   "metadata": {},
   "outputs": [
    {
     "name": "stdout",
     "output_type": "stream",
     "text": [
      "{'key1': (0, 1, 2), 'key2': (0, 1, 2), 'key3': (0, 1, 2)}\n"
     ]
    }
   ],
   "source": [
    "a = ('key1', 'key2', 'key3')\n",
    "b = 0, 1, 2\n",
    "\n",
    "dit = dict.fromkeys(a, b)\n",
    "\n",
    "print(dit)"
   ]
  },
  {
   "cell_type": "code",
   "execution_count": 28,
   "metadata": {},
   "outputs": [],
   "source": [
    "#Return the keys"
   ]
  },
  {
   "cell_type": "code",
   "execution_count": 31,
   "metadata": {},
   "outputs": [
    {
     "name": "stdout",
     "output_type": "stream",
     "text": [
      "dict_keys(['Name', 'Quali', 'University'])\n"
     ]
    }
   ],
   "source": [
    "a = {\n",
    "    \"Name\":\"xyz\",\n",
    "    \"Quali\":\"BE\",\n",
    "    \"University\":\"Mumbai\"\n",
    "}\n",
    "\n",
    "list=a.keys()\n",
    "print(list)"
   ]
  },
  {
   "cell_type": "code",
   "execution_count": 32,
   "metadata": {},
   "outputs": [],
   "source": [
    "#Return the values"
   ]
  },
  {
   "cell_type": "code",
   "execution_count": 34,
   "metadata": {},
   "outputs": [
    {
     "name": "stdout",
     "output_type": "stream",
     "text": [
      "dict_values(['xyz', 'BE', 'Mumbai'])\n"
     ]
    }
   ],
   "source": [
    "a = {\n",
    "    \"Name\":\"xyz\",\n",
    "    \"Quali\":\"BE\",\n",
    "    \"University\":\"Mumbai\"\n",
    "}\n",
    "\n",
    "list=a.values()\n",
    "print(list)"
   ]
  },
  {
   "cell_type": "markdown",
   "metadata": {},
   "source": [
    "# Sets\n",
    "A set is a collection which is unordered and unindexed."
   ]
  },
  {
   "cell_type": "code",
   "execution_count": 37,
   "metadata": {},
   "outputs": [
    {
     "name": "stdout",
     "output_type": "stream",
     "text": [
      "{'Delhi', 'Mumbai', 'Pune', 'Kolkata'}\n"
     ]
    }
   ],
   "source": [
    "set1={\"Mumbai\", \"Pune\", \"Kolkata\", \"Delhi\"}\n",
    "print(set1)"
   ]
  },
  {
   "cell_type": "code",
   "execution_count": 39,
   "metadata": {},
   "outputs": [
    {
     "name": "stdout",
     "output_type": "stream",
     "text": [
      "{'Delhi', 'Pune', 'Kolkata', 'Mumbai', 'Hyderabad'}\n"
     ]
    }
   ],
   "source": [
    "#Add element to a set\n",
    "\n",
    "set1={\"Mumbai\", \"Pune\", \"Kolkata\", \"Delhi\"}\n",
    "set1.add(\"Hyderabad\")\n",
    "print(set1)\n"
   ]
  },
  {
   "cell_type": "code",
   "execution_count": 42,
   "metadata": {},
   "outputs": [
    {
     "name": "stdout",
     "output_type": "stream",
     "text": [
      "{'Delhi', 'Pune', 'Kolkata'}\n",
      "{'UK', 'India', 'US'}\n"
     ]
    }
   ],
   "source": [
    "#set difference method - will return the contents present in only 1 set\n",
    "\n",
    "s1 = {\"Mumbai\", \"Pune\", \"Kolkata\", \"Delhi\"}\n",
    "s2 = {\"India\", \"UK\", \"US\", \"Mumbai\"}\n",
    "s3 = s1.difference(s2)\n",
    "print (s3)\n",
    "s4 = s2.difference(s1)\n",
    "print (s4)\n"
   ]
  },
  {
   "cell_type": "code",
   "execution_count": 45,
   "metadata": {},
   "outputs": [
    {
     "name": "stdout",
     "output_type": "stream",
     "text": [
      "{'US', 'Delhi', 'India', 'Pune', 'Kolkata', 'UK', 'Mumbai'}\n"
     ]
    }
   ],
   "source": [
    "#set union method - will return elements in both lists\n",
    "\n",
    "s1 = {\"Mumbai\", \"Pune\", \"Kolkata\", \"Delhi\"}\n",
    "s2 = {\"India\", \"UK\", \"US\", \"Mumbai\"}\n",
    "s5 = s1.union(s2)\n",
    "print(s5)"
   ]
  },
  {
   "cell_type": "markdown",
   "metadata": {},
   "source": [
    "# Tuple\n",
    "A tuple is a collection which is ordered and unchangeable"
   ]
  },
  {
   "cell_type": "code",
   "execution_count": 47,
   "metadata": {},
   "outputs": [
    {
     "name": "stdout",
     "output_type": "stream",
     "text": [
      "('abc', 'def', 'ghi')\n"
     ]
    }
   ],
   "source": [
    "tuple = (\"abc\", \"def\", \"ghi\")\n",
    "print(tuple)"
   ]
  },
  {
   "cell_type": "code",
   "execution_count": 50,
   "metadata": {},
   "outputs": [
    {
     "name": "stdout",
     "output_type": "stream",
     "text": [
      "4\n"
     ]
    }
   ],
   "source": [
    "#Tuple count() Method - Returns the number of times a specified value occurs in a tuple\n",
    "\n",
    "tuple1 = (34, 50, 43, 43, 65, 100, 100, 45, 43, 43)\n",
    "\n",
    "a = tuple1.count(43)\n",
    "\n",
    "print(a)\n"
   ]
  },
  {
   "cell_type": "code",
   "execution_count": 52,
   "metadata": {},
   "outputs": [
    {
     "name": "stdout",
     "output_type": "stream",
     "text": [
      "7\n"
     ]
    }
   ],
   "source": [
    "#Tuple index - Searches the tuple for a specified value and returns the position of where it was found\n",
    "\n",
    "tuple1 = (34, 50, 43, 43, 65, 100, 100, 45, 43, 43)\n",
    "\n",
    "b = tuple1.index(45)\n",
    "\n",
    "print(b)\n"
   ]
  },
  {
   "cell_type": "markdown",
   "metadata": {},
   "source": [
    "# Strings\n",
    "\n"
   ]
  },
  {
   "cell_type": "code",
   "execution_count": 54,
   "metadata": {},
   "outputs": [
    {
     "name": "stdout",
     "output_type": "stream",
     "text": [
      "How are you\n"
     ]
    }
   ],
   "source": [
    "#capitalize\n",
    "\n",
    "a = \"how are you\"\n",
    "b = a.capitalize()\n",
    "print(b)"
   ]
  },
  {
   "cell_type": "code",
   "execution_count": 61,
   "metadata": {},
   "outputs": [
    {
     "name": "stdout",
     "output_type": "stream",
     "text": [
      "b'I stay in Mumb\\xc3\\xa5i'\n"
     ]
    }
   ],
   "source": [
    "#encode\n",
    "\n",
    "a1 = \"I stay in Mumbåi\"\n",
    "c = a1.encode()\n",
    "print(c)"
   ]
  },
  {
   "cell_type": "code",
   "execution_count": 63,
   "metadata": {},
   "outputs": [
    {
     "name": "stdout",
     "output_type": "stream",
     "text": [
      "['Hey Hi', 'Wassup']\n"
     ]
    }
   ],
   "source": [
    "#splitlines\n",
    "\n",
    "d = \"Hey Hi\\nWassup\"\n",
    "\n",
    "e = d.splitlines()\n",
    "\n",
    "print(e)"
   ]
  }
 ],
 "metadata": {
  "kernelspec": {
   "display_name": "Python 3",
   "language": "python",
   "name": "python3"
  },
  "language_info": {
   "codemirror_mode": {
    "name": "ipython",
    "version": 3
   },
   "file_extension": ".py",
   "mimetype": "text/x-python",
   "name": "python",
   "nbconvert_exporter": "python",
   "pygments_lexer": "ipython3",
   "version": "3.7.6"
  }
 },
 "nbformat": 4,
 "nbformat_minor": 4
}
